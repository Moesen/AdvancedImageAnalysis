{
 "cells": [
  {
   "cell_type": "code",
   "execution_count": null,
   "metadata": {},
   "outputs": [],
   "source": [
    "from PIL import Image\n",
    "import matplotlib.pyplot as plt\n",
    "import os.path as path\n",
    "from scipy.ndimage import gaussian_filter, gaussian_filter1d, convolve1d\n",
    "import numpy as np\n",
    "import matplotlib as mpl\n",
    "\n",
    "mpl.rc(\"image\", cmap=\"gray\")"
   ]
  },
  {
   "cell_type": "code",
   "execution_count": null,
   "metadata": {},
   "outputs": [],
   "source": [
    "def show_diff(img1, img2, title1, title2):\n",
    "    fig, (ax1, ax2, ax3) = plt.subplots(1, 3, figsize=(15, 5))\n",
    "    ax1.imshow(img1)\n",
    "    ax2.imshow(img2)\n",
    "    ax3.imshow(np.abs(img1 - img2))\n",
    "\n",
    "    ax1.set_title(title1)\n",
    "    ax2.set_title(title2)\n",
    "    ax3.set_title(\"Difference\")\n",
    "\n",
    "    plt.show()"
   ]
  },
  {
   "cell_type": "code",
   "execution_count": null,
   "metadata": {},
   "outputs": [],
   "source": [
    "data_path = \"../../data/week1\"\n",
    "img = Image.open(path.join(data_path, \"fibres_xcth.png\"))\n",
    "arr = np.asarray(img) \n",
    "arr = arr / 2**16 "
   ]
  },
  {
   "cell_type": "markdown",
   "metadata": {},
   "source": [
    "## Exercise 1\n",
    "Check difference between 1d and 2d Gaussian"
   ]
  },
  {
   "cell_type": "code",
   "execution_count": null,
   "metadata": {},
   "outputs": [],
   "source": [
    "sigma = 4"
   ]
  },
  {
   "cell_type": "code",
   "execution_count": null,
   "metadata": {},
   "outputs": [],
   "source": [
    "d2 = gaussian_filter(arr, sigma)\n",
    "d1 = gaussian_filter1d(gaussian_filter1d(arr, sigma, axis=0), sigma, axis=1)"
   ]
  },
  {
   "cell_type": "code",
   "execution_count": null,
   "metadata": {},
   "outputs": [],
   "source": [
    "fig, (ax1, ax2, ax3) = plt.subplots(1, 3, figsize=(15, 5))\n",
    "ax1.imshow(d2)\n",
    "ax2.imshow(d1)\n",
    "ax3.imshow(d2 - d1)"
   ]
  },
  {
   "cell_type": "markdown",
   "metadata": {},
   "source": [
    "## Exercise 2\n",
    "Difference between derivative of Gaussian image, and then"
   ]
  },
  {
   "cell_type": "code",
   "execution_count": null,
   "metadata": {},
   "outputs": [],
   "source": [
    "derive = gaussian_filter(arr, sigma, order=1)\n",
    "img_then_derive = convolve1d(\n",
    "    convolve1d(\n",
    "    gaussian_filter(arr, sigma), weights=[.5, 0, -.5], axis=1)\n",
    "    , weights=[.5, 0, -.5], axis=0\n",
    "    )"
   ]
  },
  {
   "cell_type": "code",
   "execution_count": null,
   "metadata": {},
   "outputs": [],
   "source": [
    "fig, (ax1, ax2, ax3) = plt.subplots(1, 3, figsize=(15, 5))\n",
    "ax1.imshow(derive)\n",
    "ax2.imshow(img_then_derive)\n",
    "ax3.imshow(derive - img_then_derive)\n",
    "\n",
    "ax1.set_title(\"Derived\")\n",
    "ax2.set_title(\"Convolved then derived\")\n",
    "ax3.set_title(\"Difference\")\n",
    "\n",
    "plt.show()"
   ]
  },
  {
   "cell_type": "markdown",
   "metadata": {},
   "source": [
    "## Exercise 3\n",
    "Difference between one big swoop of `t=20` and ten times `t=2`"
   ]
  },
  {
   "cell_type": "code",
   "execution_count": null,
   "metadata": {},
   "outputs": [],
   "source": [
    "t20 = gaussian_filter(arr, 20**.5)\n",
    "t210 = arr\n",
    "for _ in range(10):\n",
    "    t210 = gaussian_filter(t210, 2**.5)\n",
    "\n",
    "show_diff(t20, t210, \"t20\", \"t210\")\n",
    "print(np.max(t20), np.max(arr))\n",
    "(abs(t20 - t210)).mean(), "
   ]
  },
  {
   "cell_type": "code",
   "execution_count": null,
   "metadata": {},
   "outputs": [],
   "source": [
    "order1 = gaussian_filter(arr, 20**.5, order=1)\n",
    "order0order1 = gaussian_filter(\n",
    "    gaussian_filter(\n",
    "        arr, 10**.5, order=0\n",
    "    ), 10**.5, order=1\n",
    ")\n",
    "show_diff(order1, order0order1, \"order1\", \"order1order0\")\n",
    "np.median(abs(order1 - order0order1))"
   ]
  },
  {
   "cell_type": "code",
   "execution_count": null,
   "metadata": {},
   "outputs": [],
   "source": [
    "order1.dtype"
   ]
  },
  {
   "cell_type": "markdown",
   "metadata": {},
   "source": [
    "# Segmentation\n",
    "## Exercise 1\n",
    "Segmentation"
   ]
  },
  {
   "cell_type": "code",
   "execution_count": null,
   "metadata": {},
   "outputs": [],
   "source": [
    "fuel1 = Image.open(path.join(data_path, \"fuel_cells/fuel_cell_1.tif\"))\n",
    "fuel1_arr = np.asarray(fuel1)\n",
    "plt.imshow(fuel1_arr)"
   ]
  },
  {
   "cell_type": "code",
   "execution_count": null,
   "metadata": {},
   "outputs": [],
   "source": [
    "def LenSegBoundary(arr: np.array) -> int:\n",
    "    axis1 = (np.diff(arr, axis=1) > 0).sum()\n",
    "    axis2 = (np.diff(arr, axis=0) > 0).sum()\n",
    "    return axis1 + axis2\n",
    "\n",
    "LenSegBoundary(fuel1_arr)"
   ]
  },
  {
   "cell_type": "markdown",
   "metadata": {},
   "source": [
    "# Curve Smoothing\n",
    "## Exercise 1"
   ]
  },
  {
   "cell_type": "code",
   "execution_count": null,
   "metadata": {},
   "outputs": [],
   "source": [
    "dino_arr = np.loadtxt(path.join(data_path, \"curves/dino_noisy.txt\"))"
   ]
  },
  {
   "cell_type": "code",
   "execution_count": null,
   "metadata": {},
   "outputs": [],
   "source": [
    "plt.plot(dino_arr[:, 0], dino_arr[:, 1])\n",
    "plt.gca().set_aspect(\"equal\")"
   ]
  },
  {
   "cell_type": "code",
   "execution_count": null,
   "metadata": {},
   "outputs": [],
   "source": [
    "def iter_smooth(X, lambda_, t_):\n",
    "    N = X.shape[0]\n",
    "    I = np.eye(N)\n",
    "    L = np.eye(N, k=-1) - 2 * np.eye(N) + np.eye(N, k=1)\n",
    "    L[-1, 0] = 1\n",
    "    L[0, -1] = 1\n",
    "    out = X\n",
    "    for _ in range(t_):\n",
    "        out = (I + L * lambda_) @ out\n",
    "\n",
    "    return out\n",
    "\n",
    "\n",
    "iter_dino = iter_smooth(dino_arr, .25, 1)\n",
    "\n",
    "plt.plot(dino_arr[:,0], dino_arr[:,1])\n",
    "plt.plot(iter_dino[:,0], iter_dino[:,1])"
   ]
  },
  {
   "cell_type": "code",
   "execution_count": null,
   "metadata": {},
   "outputs": [],
   "source": [
    "# Answer to question 3 in quiz\n",
    "answ = 0\n",
    "for i in range(iter_dino.shape[0]):\n",
    "    answ += np.sqrt(\n",
    "        (iter_dino[i-1, 0] - iter_dino[i, 0])**2 + \n",
    "        (iter_dino[i-1, 1] - iter_dino[i, 1]) ** 2)\n",
    "answ"
   ]
  },
  {
   "cell_type": "code",
   "execution_count": null,
   "metadata": {},
   "outputs": [],
   "source": [
    "def imp_smooth(X, lambda_):\n",
    "    N = X.shape[0]\n",
    "    I = np.eye(N)\n",
    "    L = np.eye(N, k=-1) - 2 * np.eye(N) + np.eye(N, k=1)\n",
    "    L[-1, 0] = 1\n",
    "    L[0, -1] = 1\n",
    "    \n",
    "    return np.linalg.inv(I - lambda_ * L) @ X\n",
    "\n",
    "lambd = .3\n",
    "imp_dino = imp_smooth(dino_arr, lambd)\n",
    "\n",
    "\n",
    "plt.figure(figsize=(12, 10))\n",
    "plt.plot(dino_arr[:,0], dino_arr[:,1])\n",
    "plt.plot(imp_dino[:,0], imp_dino[:,1])\n",
    "plt.plot(iter_dino[:,0], iter_dino[:,1])\n",
    "\n",
    "plt.legend([\"Raw\", \"Iter\", \"Imp\"])"
   ]
  },
  {
   "cell_type": "code",
   "execution_count": null,
   "metadata": {},
   "outputs": [],
   "source": [
    "def generate_smooth_kernel(X, alpha_, beta_):\n",
    "    N = X.shape[0]\n",
    "    A = np.eye(N, k=-1) - 2 * np.eye(N) + np.eye(N, k=1)\n",
    "    A[-1, 0] = 1\n",
    "    A[0, -1] = 1\n",
    "\n",
    "    B = -6 * np.eye(N) + 4 * np.eye(N, k=1) + 4 * np.eye(N, k=-1) + -1 * np.eye(N, k=-2) + -1 * np.eye(N, k=2)\n",
    "    B[-1, 0] = 4\n",
    "    B[-1, 1] = -1\n",
    "    B[-2, 0] = -1\n",
    "    B[0, -1] = 4\n",
    "    B[1, -1] = -1\n",
    "    B[0, -2] = -1\n",
    "    assert np.sum(np.sum(B, axis=0)) == 0.0\n",
    "\n",
    "    return alpha_ * A + beta_ * B"
   ]
  },
  {
   "cell_type": "code",
   "execution_count": null,
   "metadata": {},
   "outputs": [],
   "source": [
    "def imp_smooth_extended(X, alpha_, beta_):\n",
    "    kernel = generate_smooth_kernel(X, alpha_, beta_)\n",
    "    N = X.shape[0]\n",
    "    I = np.eye(N)\n",
    "    L = np.eye(N, k=-1) - 2 * np.eye(N) + np.eye(N, k=1)\n",
    "    L[-1, 0] = 1\n",
    "    L[0, -1] = 1\n",
    "    \n",
    "    return np.linalg.inv(I - kernel) @ X\n",
    "\n",
    "alpha = .1\n",
    "beta = 10\n",
    "dino_extended = imp_smooth_extended(dino_arr, alpha, beta)\n",
    "\n",
    "plt.figure(figsize=(12, 10))\n",
    "plt.plot(dino_arr[:,0], dino_arr[:,1])\n",
    "plt.plot(imp_dino[:,0], imp_dino[:,1])\n",
    "plt.plot(iter_dino[:,0], iter_dino[:,1])\n",
    "plt.plot(dino_extended[:,0], iter_dino[:,1])\n",
    "\n",
    "plt.legend([\"Raw\", \"Iter\", f\"Imp, {lambd = }\", f\"Extended, {alpha = }, {beta = }\"])"
   ]
  }
 ],
 "metadata": {
  "interpreter": {
   "hash": "c4cc64b147d887651ff4cb29d6f848ff8eae043784a1d7cbffe5c6fc3a6a8df4"
  },
  "kernelspec": {
   "display_name": "Python 3.8.12 64-bit ('AdvancedImageAnal': conda)",
   "language": "python",
   "name": "python3"
  },
  "language_info": {
   "codemirror_mode": {
    "name": "ipython",
    "version": 3
   },
   "file_extension": ".py",
   "mimetype": "text/x-python",
   "name": "python",
   "nbconvert_exporter": "python",
   "pygments_lexer": "ipython3",
   "version": "3.8.12"
  }
 },
 "nbformat": 4,
 "nbformat_minor": 2
}
