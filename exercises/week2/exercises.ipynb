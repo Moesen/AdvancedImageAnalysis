a{
 "cells": [
  {
   "cell_type": "code",
   "execution_count": null,
   "metadata": {},
   "outputs": [],
   "source": [
    "from PIL import Image\n",
    "import matplotlib.pyplot as plt\n",
    "import os.path as path\n",
    "from scipy.ndimage import gaussian_filter, gaussian_filter1d, convolve1d\n",
    "import numpy as np\n",
    "import matplotlib as mpl\n",
    "\n",
    "mpl.rc(\"image\", cmap=\"gray\")"
   ]
  },
  {
   "cell_type": "code",
   "execution_count": null,
   "metadata": {},
   "outputs": [],
   "source": [
    "data_path = \"../../data/week2\"\n",
    "img = Image.open(path.join(data_path, \"test_blob_uniform.png\"))\n",
    "arr = np.asarray(img)"
   ]
  },
  {
   "cell_type": "code",
   "execution_count": null,
   "metadata": {},
   "outputs": [],
   "source": [
    "plt.imshow(arr)"
   ]
  },
  {
   "cell_type": "markdown",
   "metadata": {},
   "source": [
    "## Exercise 1\n",
    "### Gaussian filter kernel"
   ]
  },
  {
   "cell_type": "code",
   "execution_count": null,
   "metadata": {},
   "outputs": [],
   "source": [
    "test = gaussian_filter(arr, 4, order=2)\n",
    "plt.imshow(test)"
   ]
  }
 ],
 "metadata": {
  "interpreter": {
   "hash": "e37411e23a93956e43c0fce60ab92c125541de717f8d2c80eb39d8e7ed4e682a"
  },
  "kernelspec": {
   "display_name": "Python 3.8.12 ('sem10')",
   "language": "python",
   "name": "python3"
  },
  "language_info": {
   "codemirror_mode": {
    "name": "ipython",
    "version": 3
   },
   "file_extension": ".py",
   "mimetype": "text/x-python",
   "name": "python",
   "nbconvert_exporter": "python",
   "pygments_lexer": "ipython3",
   "version": "3.8.12"
  }
 },
 "nbformat": 4,
 "nbformat_minor": 2
}
